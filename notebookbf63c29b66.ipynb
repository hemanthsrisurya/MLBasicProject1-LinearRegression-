{
 "cells": [
  {
   "cell_type": "markdown",
   "metadata": {
    "_uuid": "cb7ca0155c61cf8caf73214425c2c9bda6828de1"
   },
   "source": [
    "___\n",
    "\n",
    "<a href='http://www.pieriandata.com'> <img src='../Pierian_Data_Logo.png' /></a>\n",
    "___\n",
    "# Linear Regression Project\n",
    "\n",
    "Congratulations! You just got some contract work with an Ecommerce company based in New York City that sells clothing online but they also have in-store style and clothing advice sessions. Customers come in to the store, have sessions/meetings with a personal stylist, then they can go home and order either on a mobile app or website for the clothes they want.\n",
    "\n",
    "The company is trying to decide whether to focus their efforts on their mobile app experience or their website. They've hired you on contract to help them figure it out! Let's get started!\n",
    "\n",
    "Just follow the steps below to analyze the customer data (it's fake, don't worry I didn't give you real credit card numbers or emails)."
   ]
  },
  {
   "cell_type": "markdown",
   "metadata": {
    "_uuid": "ca8521428e146f69eab1affa9de0a2ca09b63f9c"
   },
   "source": [
    "## Imports\n",
    "** Import pandas, numpy, matplotlib,and seaborn. Then set %matplotlib inline \n",
    "(You'll import sklearn as you need it.)**"
   ]
  },
  {
   "cell_type": "code",
   "execution_count": null,
   "metadata": {
    "_uuid": "651e70b81acddf43cb670f5b09dd8591028ba97c"
   },
   "outputs": [],
   "source": [
    "import pandas as pd\n",
    "import numpy as np\n",
    "import matplotlib as plt\n",
    "import seaborn as sns\n",
    "%matplotlib inline"
   ]
  },
  {
   "cell_type": "markdown",
   "metadata": {
    "_uuid": "af1a83d7459133081ccec25ff69ecb271c12290c"
   },
   "source": [
    "## Get the Data\n",
    "\n",
    "We'll work with the Ecommerce Customers csv file from the company. It has Customer info, suchas Email, Address, and their color Avatar. Then it also has numerical value columns:\n",
    "\n",
    "* Avg. Session Length: Average session of in-store style advice sessions.\n",
    "* Time on App: Average time spent on App in minutes\n",
    "* Time on Website: Average time spent on Website in minutes\n",
    "* Length of Membership: How many years the customer has been a member. \n",
    "\n",
    "** Read in the Ecommerce Customers csv file as a DataFrame called customers.**"
   ]
  },
  {
   "cell_type": "code",
   "execution_count": 1,
   "metadata": {
    "_uuid": "b8b7b4bc6166fc36c6ec57c08524260710f4d327",
    "execution": {
     "iopub.execute_input": "2024-09-03T05:07:00.187552Z",
     "iopub.status.busy": "2024-09-03T05:07:00.187219Z",
     "iopub.status.idle": "2024-09-03T05:07:00.214906Z",
     "shell.execute_reply": "2024-09-03T05:07:00.214203Z",
     "shell.execute_reply.started": "2024-09-03T05:07:00.187507Z"
    }
   },
   "outputs": [
    {
     "name": "stdout",
     "output_type": "stream",
     "text": [
      "[]\n"
     ]
    }
   ],
   "source": [
    "import os\n",
    "print(os.listdir(\"../input/\"))"
   ]
  },
  {
   "cell_type": "code",
   "execution_count": 2,
   "metadata": {
    "_uuid": "03d2f787110ba6e1c49ab739366dee2631240601",
    "execution": {
     "iopub.execute_input": "2024-09-03T05:07:00.216606Z",
     "iopub.status.busy": "2024-09-03T05:07:00.216109Z",
     "iopub.status.idle": "2024-09-03T05:07:00.340946Z",
     "shell.execute_reply": "2024-09-03T05:07:00.339730Z",
     "shell.execute_reply.started": "2024-09-03T05:07:00.216555Z"
    }
   },
   "outputs": [
    {
     "ename": "NameError",
     "evalue": "name 'pd' is not defined",
     "output_type": "error",
     "traceback": [
      "\u001b[0;31m---------------------------------------------------------------------------\u001b[0m",
      "\u001b[0;31mNameError\u001b[0m                                 Traceback (most recent call last)",
      "\u001b[0;32m<ipython-input-2-889dd1062edc>\u001b[0m in \u001b[0;36m<module>\u001b[0;34m()\u001b[0m\n\u001b[0;32m----> 1\u001b[0;31m \u001b[0mcustomers\u001b[0m \u001b[0;34m=\u001b[0m \u001b[0mpd\u001b[0m\u001b[0;34m.\u001b[0m\u001b[0mread_csv\u001b[0m\u001b[0;34m(\u001b[0m\u001b[0;34m'../input/Ecommerce Customers'\u001b[0m\u001b[0;34m)\u001b[0m\u001b[0;34m\u001b[0m\u001b[0m\n\u001b[0m",
      "\u001b[0;31mNameError\u001b[0m: name 'pd' is not defined"
     ]
    }
   ],
   "source": [
    "customers = pd.read_csv('../input/Ecommerce Customers')"
   ]
  },
  {
   "cell_type": "markdown",
   "metadata": {
    "_uuid": "5e110721721f7d523cfe9fe74518f99001031b6e"
   },
   "source": [
    "**Check the head of customers, and check out its info() and describe() methods.**"
   ]
  },
  {
   "cell_type": "code",
   "execution_count": null,
   "metadata": {
    "_uuid": "9cff4f4e225edbe8f1dbf1ee191f3be21beae4f3"
   },
   "outputs": [],
   "source": [
    "customers.head()"
   ]
  },
  {
   "cell_type": "code",
   "execution_count": null,
   "metadata": {
    "_uuid": "03d36cc19784340a9bbabe06318f98a83f09e187"
   },
   "outputs": [],
   "source": [
    "customers.describe()"
   ]
  },
  {
   "cell_type": "code",
   "execution_count": null,
   "metadata": {
    "_uuid": "2b978a01c99f6392a4c95a43d0b7abaa27c1a0dd"
   },
   "outputs": [],
   "source": [
    "customers.info()"
   ]
  },
  {
   "cell_type": "markdown",
   "metadata": {
    "_uuid": "ac68cb374b9fdc92a7a006c01a74b76dc194ccd7"
   },
   "source": [
    "## Exploratory Data Analysis\n",
    "\n",
    "**Let's explore the data!**\n",
    "\n",
    "For the rest of the exercise we'll only be using the numerical data of the csv file.\n",
    "___\n",
    "**Use seaborn to create a jointplot to compare the Time on Website and Yearly Amount Spent columns. Does the correlation make sense?**"
   ]
  },
  {
   "cell_type": "code",
   "execution_count": null,
   "metadata": {
    "_uuid": "e17c930b525ff3dc26d03aca36886130f7e10259"
   },
   "outputs": [],
   "source": [
    "sns.jointplot(x='Time on Website',y ='Yearly Amount Spent', data = customers)"
   ]
  },
  {
   "cell_type": "code",
   "execution_count": null,
   "metadata": {
    "_uuid": "504a1f0695959d11f6f1ceb12e6daf69c573e3a0"
   },
   "outputs": [],
   "source": []
  },
  {
   "cell_type": "markdown",
   "metadata": {
    "_uuid": "d9ffcbedc7fde902cedb5d9223677903c339e012"
   },
   "source": [
    "** Do the same but with the Time on App column instead. **"
   ]
  },
  {
   "cell_type": "code",
   "execution_count": null,
   "metadata": {
    "_uuid": "93bb00c50d4242e6ec3be4db62958ce0b9a1755a"
   },
   "outputs": [],
   "source": [
    "sns.jointplot(x='Time on App',y ='Yearly Amount Spent', data = customers)"
   ]
  },
  {
   "cell_type": "markdown",
   "metadata": {
    "_uuid": "49a9a9dab7f7c34ae8b0a3d945c12262d69491b9"
   },
   "source": [
    "** Use jointplot to create a 2D hex bin plot comparing Time on App and Length of Membership.**"
   ]
  },
  {
   "cell_type": "code",
   "execution_count": null,
   "metadata": {
    "_uuid": "200d3f0a3ea5e8364f75f427638f8968a7c09a00"
   },
   "outputs": [],
   "source": [
    "sns.jointplot(x='Time on App',y ='Length of Membership', data = customers, kind='hex')"
   ]
  },
  {
   "cell_type": "markdown",
   "metadata": {
    "_uuid": "b92903cb8fc5f4ad624dcf33e59c61b97e51515b"
   },
   "source": [
    "**Let's explore these types of relationships across the entire data set. Use [pairplot](https://stanford.edu/~mwaskom/software/seaborn/tutorial/axis_grids.html#plotting-pairwise-relationships-with-pairgrid-and-pairplot) to recreate the plot below.(Don't worry about the the colors)**"
   ]
  },
  {
   "cell_type": "code",
   "execution_count": null,
   "metadata": {
    "_uuid": "6e532fc764866690ffec6acdb398f2fb2eb9fb25"
   },
   "outputs": [],
   "source": [
    "sns.pairplot(customers)"
   ]
  },
  {
   "cell_type": "markdown",
   "metadata": {
    "_uuid": "99b40686801f97741521fcf6544d05a7065207c5"
   },
   "source": [
    "**Based off this plot what looks to be the most correlated feature with Yearly Amount Spent?**"
   ]
  },
  {
   "cell_type": "code",
   "execution_count": null,
   "metadata": {
    "_uuid": "9a49dddc217de04b9a2472c3a473af996734e14d"
   },
   "outputs": [],
   "source": [
    "print(\"Length of Membership\")"
   ]
  },
  {
   "cell_type": "markdown",
   "metadata": {
    "_uuid": "23838e7e9e55a5b607f6b431bf9d6e4f30b0295c"
   },
   "source": [
    "**Create a linear model plot (using seaborn's lmplot) of  Yearly Amount Spent vs. Length of Membership. **"
   ]
  },
  {
   "cell_type": "code",
   "execution_count": null,
   "metadata": {
    "_uuid": "dd346f420e8dcd3ba0db7942e8b0666223f7f9f4"
   },
   "outputs": [],
   "source": [
    "sns.set(color_codes=True)\n",
    "sns.lmplot(x='Length of Membership', y='Yearly Amount Spent',data=customers)"
   ]
  },
  {
   "cell_type": "markdown",
   "metadata": {
    "_uuid": "e9bdc11e47826d1857aaec58c927b472e5cd0ea1"
   },
   "source": [
    "## Training and Testing Data\n",
    "\n",
    "Now that we've explored the data a bit, let's go ahead and split the data into training and testing sets.\n",
    "** Set a variable X equal to the numerical features of the customers and a variable y equal to the \"Yearly Amount Spent\" column. **"
   ]
  },
  {
   "cell_type": "code",
   "execution_count": null,
   "metadata": {
    "_uuid": "59860e2216c8072ceb9d666125772bbf7e6809fc"
   },
   "outputs": [],
   "source": [
    "X = customers[['Avg. Session Length', 'Time on App',\n",
    "       'Time on Website', 'Length of Membership']]"
   ]
  },
  {
   "cell_type": "code",
   "execution_count": null,
   "metadata": {
    "_uuid": "97f7b4656149c316bb56e4550a452f2d93e826c5"
   },
   "outputs": [],
   "source": [
    "y= customers['Yearly Amount Spent']"
   ]
  },
  {
   "cell_type": "markdown",
   "metadata": {
    "_uuid": "144f9fd5066d1a321895c2237f408239d2d0bb00"
   },
   "source": [
    "** Use model_selection.train_test_split from sklearn to split the data into training and testing sets. Set test_size=0.3 and random_state=101**"
   ]
  },
  {
   "cell_type": "code",
   "execution_count": null,
   "metadata": {
    "_uuid": "0318e8c5e26757bcbab1adb0fd96d8f2d9e67b58"
   },
   "outputs": [],
   "source": [
    "from sklearn.model_selection import train_test_split"
   ]
  },
  {
   "cell_type": "code",
   "execution_count": null,
   "metadata": {
    "_uuid": "bb992b3d93e58978cdfbd0c01a97ea21837da214"
   },
   "outputs": [],
   "source": [
    "X_train, X_test, y_train, y_test = train_test_split(X, y, test_size=0.3, random_state=101)"
   ]
  },
  {
   "cell_type": "markdown",
   "metadata": {
    "_uuid": "fa814ca74bdd22a380e0fa2251d0fb50465d6761"
   },
   "source": [
    "## Training the Model\n",
    "\n",
    "Now its time to train our model on our training data!\n",
    "\n",
    "** Import LinearRegression from sklearn.linear_model **"
   ]
  },
  {
   "cell_type": "code",
   "execution_count": null,
   "metadata": {
    "_uuid": "c86ca563106771c0126e4c5518b705d62decc27c"
   },
   "outputs": [],
   "source": [
    "from sklearn.linear_model import LinearRegression"
   ]
  },
  {
   "cell_type": "markdown",
   "metadata": {
    "_uuid": "85b9a203a9dc524439537dcbf16fa716e39f4c69"
   },
   "source": [
    "**Create an instance of a LinearRegression() model named lm.**"
   ]
  },
  {
   "cell_type": "code",
   "execution_count": null,
   "metadata": {
    "_uuid": "1ee8ccb919ff0ccd2cc790a794d61e7d75e96238"
   },
   "outputs": [],
   "source": [
    "lm = LinearRegression()"
   ]
  },
  {
   "cell_type": "markdown",
   "metadata": {
    "_uuid": "fa224a4885670de63774f7ef1d5baf3c2dc14b15"
   },
   "source": [
    "** Train/fit lm on the training data.**"
   ]
  },
  {
   "cell_type": "code",
   "execution_count": null,
   "metadata": {
    "_uuid": "c6bc615734d58326c636c600b7c813520f8411cd"
   },
   "outputs": [],
   "source": [
    "lm.fit(X_train, y_train )"
   ]
  },
  {
   "cell_type": "markdown",
   "metadata": {
    "_uuid": "055bae56a50bb445f8d0c025fc31866462e30af9"
   },
   "source": [
    "**Print out the coefficients of the model**"
   ]
  },
  {
   "cell_type": "code",
   "execution_count": null,
   "metadata": {
    "_uuid": "6ff2d7b42960c40dbbcc2b160c073592b35dfab4"
   },
   "outputs": [],
   "source": [
    "print(lm.coef_)"
   ]
  },
  {
   "cell_type": "markdown",
   "metadata": {
    "_uuid": "7cc30b495e300f038d47256e70c972df804378c9"
   },
   "source": [
    "## Predicting Test Data\n",
    "Now that we have fit our model, let's evaluate its performance by predicting off the test values!\n",
    "\n",
    "** Use lm.predict() to predict off the X_test set of the data.**"
   ]
  },
  {
   "cell_type": "code",
   "execution_count": null,
   "metadata": {
    "_uuid": "bafe14847618280de46607cefabb5e810b61f505"
   },
   "outputs": [],
   "source": [
    "predictions = lm.predict(X_test)"
   ]
  },
  {
   "cell_type": "markdown",
   "metadata": {
    "_uuid": "e7ea333c00c2ef89f7241804276ae79fc2885c7d"
   },
   "source": [
    "** Create a scatterplot of the real test values versus the predicted values. **"
   ]
  },
  {
   "cell_type": "code",
   "execution_count": null,
   "metadata": {
    "_uuid": "fc3e727445f2b0aa46d4b6529f897f3370bf0f4e"
   },
   "outputs": [],
   "source": [
    "plt.pyplot.scatter(y_test, predictions)\n",
    "plt.pyplot.ylabel('Predicted')\n",
    "plt.pyplot.xlabel('Y test')"
   ]
  },
  {
   "cell_type": "markdown",
   "metadata": {
    "_uuid": "c59886b10b27370c627e44e4d78d98bb35672d70"
   },
   "source": [
    "## Evaluating the Model\n",
    "\n",
    "Let's evaluate our model performance by calculating the residual sum of squares and the explained variance score (R^2).\n",
    "\n",
    "** Calculate the Mean Absolute Error, Mean Squared Error, and the Root Mean Squared Error. Refer to the lecture or to Wikipedia for the formulas**"
   ]
  },
  {
   "cell_type": "code",
   "execution_count": null,
   "metadata": {
    "_uuid": "fbcc6b6b421e7543a58d353cc0e0817b7096e3b3"
   },
   "outputs": [],
   "source": [
    "import sklearn.metrics as metrics\n",
    "print('MAE: {}'.format(metrics.mean_absolute_error(y_test, predictions)))\n",
    "print('MSE: {}'.format(metrics.mean_squared_error(y_test, predictions)))\n",
    "print('RMSE: {}'.format(np.sqrt(metrics.mean_squared_error(y_test, predictions))))"
   ]
  },
  {
   "cell_type": "markdown",
   "metadata": {
    "_uuid": "34464865de2e313a502fee2b947abf0bd9c549a2"
   },
   "source": [
    "## Residuals\n",
    "\n",
    "You should have gotten a very good model with a good fit. Let's quickly explore the residuals to make sure everything was okay with our data. \n",
    "\n",
    "**Plot a histogram of the residuals and make sure it looks normally distributed. Use either seaborn distplot, or just plt.hist().**"
   ]
  },
  {
   "cell_type": "code",
   "execution_count": null,
   "metadata": {
    "_uuid": "df798a70c6d16acca366ed70a8aada07eeb9e971"
   },
   "outputs": [],
   "source": [
    "sns.distplot((y_test-predictions))"
   ]
  },
  {
   "cell_type": "markdown",
   "metadata": {
    "_uuid": "a748f3de6f628b26270d9f12723fc144eec1599d"
   },
   "source": [
    "## Conclusion\n",
    "We still want to figure out the answer to the original question, do we focus our efforst on mobile app or website development? Or maybe that doesn't even really matter, and Membership Time is what is really important.  Let's see if we can interpret the coefficients at all to get an idea.\n",
    "\n",
    "** Recreate the dataframe below. **"
   ]
  },
  {
   "cell_type": "code",
   "execution_count": null,
   "metadata": {
    "_uuid": "1e7d0c95e9023e76bb4e5ed7366d86725b37d971"
   },
   "outputs": [],
   "source": [
    "pd.DataFrame(lm.coef_ , X.columns, columns=['Coeffecient'])"
   ]
  },
  {
   "cell_type": "markdown",
   "metadata": {
    "_uuid": "9017d5800eb25cc1b288df4dbbe61aa327e4565e"
   },
   "source": [
    "** How can you interpret these coefficients? **"
   ]
  },
  {
   "cell_type": "markdown",
   "metadata": {
    "_uuid": "8989a0228ed82bf74ae7359f7892d93f6be68354"
   },
   "source": [
    "*The greater the value the more related it is to the target, in this case yearly amount spent*"
   ]
  },
  {
   "cell_type": "markdown",
   "metadata": {
    "_uuid": "14ad5136b7b5b5b99c43ba06b0c1ec041afc8a5e"
   },
   "source": [
    "**Do you think the company should focus more on their mobile app or on their website?**"
   ]
  },
  {
   "cell_type": "markdown",
   "metadata": {
    "_uuid": "e13794a87039e7f365216d803968a399789b6787"
   },
   "source": [
    "*The company should focus on the mobile app*"
   ]
  },
  {
   "cell_type": "markdown",
   "metadata": {
    "_uuid": "bf884880e9557488be6d7661be853cd8a397ce2b"
   },
   "source": [
    "## Great Job!\n",
    "\n",
    "Congrats on your contract work! The company loved the insights! Let's move on."
   ]
  }
 ],
 "metadata": {
  "kaggle": {
   "accelerator": "none",
   "dataSources": [
    {
     "datasetId": 125769,
     "sourceId": 302628,
     "sourceType": "datasetVersion"
    }
   ],
   "dockerImageVersionId": 21695,
   "isGpuEnabled": false,
   "isInternetEnabled": false,
   "language": "python",
   "sourceType": "notebook"
  },
  "kernelspec": {
   "display_name": "Python 3 (ipykernel)",
   "language": "python",
   "name": "python3"
  },
  "language_info": {
   "codemirror_mode": {
    "name": "ipython",
    "version": 3
   },
   "file_extension": ".py",
   "mimetype": "text/x-python",
   "name": "python",
   "nbconvert_exporter": "python",
   "pygments_lexer": "ipython3",
   "version": "3.10.12"
  }
 },
 "nbformat": 4,
 "nbformat_minor": 4
}
